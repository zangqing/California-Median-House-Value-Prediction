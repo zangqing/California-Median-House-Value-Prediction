{
 "cells": [
  {
   "cell_type": "markdown",
   "metadata": {},
   "source": [
    "# 1. Get the data"
   ]
  },
  {
   "cell_type": "markdown",
   "metadata": {},
   "source": [
    "## 1.1. Load data set"
   ]
  },
  {
   "cell_type": "code",
   "execution_count": 1,
   "metadata": {},
   "outputs": [],
   "source": [
    "import numpy as np\n",
    "import pandas as pd\n",
    "import matplotlib.pyplot as plt\n",
    "import seaborn as sns"
   ]
  },
  {
   "cell_type": "code",
   "execution_count": 2,
   "metadata": {},
   "outputs": [
    {
     "name": "stdout",
     "output_type": "stream",
     "text": [
      "/Users/qing/Google Drive/Fall 2019/STAT 5990:6690 Big Data Analysis Using Python/Homeworks/Homework 5\n"
     ]
    }
   ],
   "source": [
    "# Change working directory\n",
    "%cd /Users/qing/Google\\ Drive/Fall\\ 2019/STAT\\ 5990\\:6690\\ Big\\ Data\\ Analysis\\ Using\\ Python/Homeworks/Homework\\ 5 "
   ]
  },
  {
   "cell_type": "code",
   "execution_count": 3,
   "metadata": {},
   "outputs": [],
   "source": [
    "# Load the data\n",
    "source = pd.read_csv('train.csv')\n",
    "test_X = pd.read_csv('test.csv')\n",
    "submission = pd.read_csv('sample_submission.csv')\n",
    "housing = pd.read_csv('housing.csv') # extra data set "
   ]
  },
  {
   "cell_type": "code",
   "execution_count": 4,
   "metadata": {
    "scrolled": true
   },
   "outputs": [
    {
     "name": "stdout",
     "output_type": "stream",
     "text": [
      "(18576, 9) (2064, 8) (2064, 2) (20640, 10)\n"
     ]
    }
   ],
   "source": [
    "print(source.shape, test_X.shape, submission.shape, housing.shape)"
   ]
  },
  {
   "cell_type": "markdown",
   "metadata": {},
   "source": [
    "## 1.2. Combine source and test X set to do data cleaning"
   ]
  },
  {
   "cell_type": "code",
   "execution_count": 5,
   "metadata": {},
   "outputs": [
    {
     "name": "stderr",
     "output_type": "stream",
     "text": [
      "/Users/qing/opt/anaconda3/lib/python3.7/site-packages/pandas/core/frame.py:7123: FutureWarning: Sorting because non-concatenation axis is not aligned. A future version\n",
      "of pandas will change to not sort by default.\n",
      "\n",
      "To accept the future behavior, pass 'sort=False'.\n",
      "\n",
      "To retain the current behavior and silence the warning, pass 'sort=True'.\n",
      "\n",
      "  sort=sort,\n"
     ]
    }
   ],
   "source": [
    "# Combine feature matrix of source and test to do data cleaning\n",
    "full = source.append(test_X, ignore_index=True)"
   ]
  },
  {
   "cell_type": "code",
   "execution_count": 6,
   "metadata": {},
   "outputs": [
    {
     "data": {
      "text/plain": [
       "(20640, 9)"
      ]
     },
     "execution_count": 6,
     "metadata": {},
     "output_type": "execute_result"
    }
   ],
   "source": [
    "full.shape"
   ]
  },
  {
   "cell_type": "markdown",
   "metadata": {},
   "source": [
    "## 1.3. Merge new data set to add attributes"
   ]
  },
  {
   "cell_type": "code",
   "execution_count": 7,
   "metadata": {},
   "outputs": [],
   "source": [
    "# Add more features to the full data set\n",
    "housing_sub = housing[['longitude','latitude', 'population','households','ocean_proximity']]\n",
    "full_mg = full.merge(housing_sub.drop_duplicates(subset=['longitude','latitude', 'population']),\n",
    "                   left_on=['Longitude','Latitude', 'Population'],\n",
    "                   right_on=['longitude','latitude', 'population'],\n",
    "                   how='inner')"
   ]
  },
  {
   "cell_type": "code",
   "execution_count": 8,
   "metadata": {},
   "outputs": [
    {
     "data": {
      "text/plain": [
       "(20640, 11)"
      ]
     },
     "execution_count": 8,
     "metadata": {},
     "output_type": "execute_result"
    }
   ],
   "source": [
    "full_mg = full_mg.drop(['longitude','latitude', 'population'],axis=1)\n",
    "full_mg.shape"
   ]
  },
  {
   "cell_type": "markdown",
   "metadata": {},
   "source": [
    "# 2. Discover and visualize the data to gain insights"
   ]
  },
  {
   "cell_type": "code",
   "execution_count": 9,
   "metadata": {},
   "outputs": [
    {
     "name": "stdout",
     "output_type": "stream",
     "text": [
      "<class 'pandas.core.frame.DataFrame'>\n",
      "Int64Index: 20640 entries, 0 to 20639\n",
      "Data columns (total 11 columns):\n",
      "AveBedrms           20640 non-null float64\n",
      "AveOccup            20640 non-null float64\n",
      "AveRooms            20640 non-null float64\n",
      "CatMedHouseValue    18576 non-null float64\n",
      "HouseAge            20640 non-null float64\n",
      "Latitude            20640 non-null float64\n",
      "Longitude           20640 non-null float64\n",
      "MedInc              20640 non-null float64\n",
      "Population          20640 non-null float64\n",
      "households          20640 non-null float64\n",
      "ocean_proximity     20640 non-null object\n",
      "dtypes: float64(10), object(1)\n",
      "memory usage: 1.9+ MB\n"
     ]
    }
   ],
   "source": [
    "full_mg.info()"
   ]
  },
  {
   "cell_type": "markdown",
   "metadata": {},
   "source": [
    "## 2.1. Visualize geographical data"
   ]
  },
  {
   "cell_type": "code",
   "execution_count": 10,
   "metadata": {},
   "outputs": [
    {
     "data": {
      "text/plain": [
       "<matplotlib.collections.PathCollection at 0x1a1fc2e4d0>"
      ]
     },
     "execution_count": 10,
     "metadata": {},
     "output_type": "execute_result"
    },
    {
     "data": {
      "image/png": "[encoded data removed]",
      "text/plain": [
       "<Figure size 432x288 with 1 Axes>"
      ]
     },
     "metadata": {
      "needs_background": "light"
     },
     "output_type": "display_data"
    }
   ],
   "source": [
    "# It looks like a Californian map\n",
    "plt.scatter(full_mg['Longitude'],full_mg['Latitude'])"
   ]
  },
  {
   "cell_type": "code",
   "execution_count": 11,
   "metadata": {},
   "outputs": [
    {
     "data": {
      "text/plain": [
       "<matplotlib.collections.PathCollection at 0x1a1fbf20d0>"
      ]
     },
     "execution_count": 11,
     "metadata": {},
     "output_type": "execute_result"
    },
    {
     "data": {
      "image/png": "[encoded data removed]",
      "text/plain": [
       "<Figure size 432x288 with 1 Axes>"
      ]
     },
     "metadata": {
      "needs_background": "light"
     },
     "output_type": "display_data"
    }
   ],
   "source": [
    "# Add alpha=0.1 to visualize where is a high density of data points\n",
    "'''\n",
    "It seems like the high-density areas are Bay-area and around Los \n",
    "Angeles and San Diego.\n",
    "'''\n",
    "plt.scatter(full_mg['Longitude'], full_mg['Latitude'], alpha=0.4)"
   ]
  },
  {
   "cell_type": "markdown",
   "metadata": {},
   "source": [
    "## 2.2. Looking for correlations"
   ]
  },
  {
   "cell_type": "code",
   "execution_count": 12,
   "metadata": {},
   "outputs": [
    {
     "data": {
      "text/plain": [
       "CatMedHouseValue    1.000000\n",
       "MedInc              0.660428\n",
       "AveRooms            0.136280\n",
       "HouseAge            0.096855\n",
       "households          0.076718\n",
       "Population         -0.012032\n",
       "AveOccup           -0.022430\n",
       "Longitude          -0.045320\n",
       "AveBedrms          -0.048974\n",
       "Latitude           -0.146413\n",
       "Name: CatMedHouseValue, dtype: float64"
      ]
     },
     "execution_count": 12,
     "metadata": {},
     "output_type": "execute_result"
    }
   ],
   "source": [
    "corr_mat = full_mg.corr()\n",
    "corr_mat['CatMedHouseValue'].sort_values(ascending=False)"
   ]
  },
  {
   "cell_type": "markdown",
   "metadata": {},
   "source": [
    "## 2.3. Experimenting with attribute combinations"
   ]
  },
  {
   "cell_type": "markdown",
   "metadata": {},
   "source": [
    "Bedrms/Rooms ratio would be an interesting indicator since the lower ratio might imply a high house value due to more office or gyms in houses"
   ]
  },
  {
   "cell_type": "code",
   "execution_count": 13,
   "metadata": {},
   "outputs": [],
   "source": [
    "full_mg[\"bedrms_per_room\"] = full_mg[\"AveBedrms\"] / full_mg[\"AveRooms\"]"
   ]
  },
  {
   "cell_type": "code",
   "execution_count": 14,
   "metadata": {
    "scrolled": true
   },
   "outputs": [
    {
     "data": {
      "text/plain": [
       "CatMedHouseValue    1.000000\n",
       "MedInc              0.660428\n",
       "AveRooms            0.136280\n",
       "HouseAge            0.096855\n",
       "households          0.076718\n",
       "Population         -0.012032\n",
       "AveOccup           -0.022430\n",
       "Longitude          -0.045320\n",
       "AveBedrms          -0.048974\n",
       "Latitude           -0.146413\n",
       "bedrms_per_room    -0.243639\n",
       "Name: CatMedHouseValue, dtype: float64"
      ]
     },
     "execution_count": 14,
     "metadata": {},
     "output_type": "execute_result"
    }
   ],
   "source": [
    "# Check corr matrix again, bedrms_per_room do have a significant impact\n",
    "# on 'CatMedHouseValue'!\n",
    "corr_mat = full_mg.corr()\n",
    "corr_mat['CatMedHouseValue'].sort_values(ascending=False)"
   ]
  },
  {
   "cell_type": "markdown",
   "metadata": {},
   "source": [
    "# 3. Prepare the Data for Machine Learning Algorithms"
   ]
  },
  {
   "cell_type": "markdown",
   "metadata": {},
   "source": [
    "## 3.1. Data cleaning"
   ]
  },
  {
   "cell_type": "markdown",
   "metadata": {},
   "source": [
    "### 3.1.1. Check missing values"
   ]
  },
  {
   "cell_type": "code",
   "execution_count": 15,
   "metadata": {},
   "outputs": [
    {
     "data": {
      "text/plain": [
       "AveBedrms              0\n",
       "AveOccup               0\n",
       "AveRooms               0\n",
       "CatMedHouseValue    2064\n",
       "HouseAge               0\n",
       "Latitude               0\n",
       "Longitude              0\n",
       "MedInc                 0\n",
       "Population             0\n",
       "households             0\n",
       "ocean_proximity        0\n",
       "bedrms_per_room        0\n",
       "dtype: int64"
      ]
     },
     "execution_count": 15,
     "metadata": {},
     "output_type": "execute_result"
    }
   ],
   "source": [
    "# No missing values for feature matrix\n",
    "full_mg.isnull().sum()"
   ]
  },
  {
   "cell_type": "markdown",
   "metadata": {},
   "source": [
    "## 3.2. Handling text and categorical attributes"
   ]
  },
  {
   "cell_type": "code",
   "execution_count": 16,
   "metadata": {
    "scrolled": true
   },
   "outputs": [
    {
     "data": {
      "text/plain": [
       "array(['NEAR BAY', '<1H OCEAN', 'NEAR OCEAN', 'INLAND', 'ISLAND'],\n",
       "      dtype=object)"
      ]
     },
     "execution_count": 16,
     "metadata": {},
     "output_type": "execute_result"
    }
   ],
   "source": [
    "full_mg['ocean_proximity'].unique()"
   ]
  },
  {
   "cell_type": "code",
   "execution_count": 17,
   "metadata": {},
   "outputs": [],
   "source": [
    "# one-hot coding, drop first dummy to avoid multi-collinearity\n",
    "proximDf = pd.get_dummies(full_mg['ocean_proximity'],drop_first=True)"
   ]
  },
  {
   "cell_type": "code",
   "execution_count": 18,
   "metadata": {},
   "outputs": [
    {
     "data": {
      "text/html": [
       "<div>\n",
       "<style scoped>\n",
       "    .dataframe tbody tr th:only-of-type {\n",
       "        vertical-align: middle;\n",
       "    }\n",
       "\n",
       "    .dataframe tbody tr th {\n",
       "        vertical-align: top;\n",
       "    }\n",
       "\n",
       "    .dataframe thead th {\n",
       "        text-align: right;\n",
       "    }\n",
       "</style>\n",
       "<table border=\"1\" class=\"dataframe\">\n",
       "  <thead>\n",
       "    <tr style=\"text-align: right;\">\n",
       "      <th></th>\n",
       "      <th>INLAND</th>\n",
       "      <th>ISLAND</th>\n",
       "      <th>NEAR BAY</th>\n",
       "      <th>NEAR OCEAN</th>\n",
       "    </tr>\n",
       "  </thead>\n",
       "  <tbody>\n",
       "    <tr>\n",
       "      <td>0</td>\n",
       "      <td>0</td>\n",
       "      <td>0</td>\n",
       "      <td>1</td>\n",
       "      <td>0</td>\n",
       "    </tr>\n",
       "    <tr>\n",
       "      <td>1</td>\n",
       "      <td>0</td>\n",
       "      <td>0</td>\n",
       "      <td>1</td>\n",
       "      <td>0</td>\n",
       "    </tr>\n",
       "    <tr>\n",
       "      <td>2</td>\n",
       "      <td>0</td>\n",
       "      <td>0</td>\n",
       "      <td>0</td>\n",
       "      <td>0</td>\n",
       "    </tr>\n",
       "    <tr>\n",
       "      <td>3</td>\n",
       "      <td>0</td>\n",
       "      <td>0</td>\n",
       "      <td>0</td>\n",
       "      <td>1</td>\n",
       "    </tr>\n",
       "    <tr>\n",
       "      <td>4</td>\n",
       "      <td>1</td>\n",
       "      <td>0</td>\n",
       "      <td>0</td>\n",
       "      <td>0</td>\n",
       "    </tr>\n",
       "  </tbody>\n",
       "</table>\n",
       "</div>"
      ],
      "text/plain": [
       "   INLAND  ISLAND  NEAR BAY  NEAR OCEAN\n",
       "0       0       0         1           0\n",
       "1       0       0         1           0\n",
       "2       0       0         0           0\n",
       "3       0       0         0           1\n",
       "4       1       0         0           0"
      ]
     },
     "execution_count": 18,
     "metadata": {},
     "output_type": "execute_result"
    }
   ],
   "source": [
    "proximDf.head()"
   ]
  },
  {
   "cell_type": "code",
   "execution_count": 19,
   "metadata": {},
   "outputs": [
    {
     "data": {
      "text/html": [
       "<div>\n",
       "<style scoped>\n",
       "    .dataframe tbody tr th:only-of-type {\n",
       "        vertical-align: middle;\n",
       "    }\n",
       "\n",
       "    .dataframe tbody tr th {\n",
       "        vertical-align: top;\n",
       "    }\n",
       "\n",
       "    .dataframe thead th {\n",
       "        text-align: right;\n",
       "    }\n",
       "</style>\n",
       "<table border=\"1\" class=\"dataframe\">\n",
       "  <thead>\n",
       "    <tr style=\"text-align: right;\">\n",
       "      <th></th>\n",
       "      <th>AveBedrms</th>\n",
       "      <th>AveOccup</th>\n",
       "      <th>AveRooms</th>\n",
       "      <th>CatMedHouseValue</th>\n",
       "      <th>HouseAge</th>\n",
       "      <th>Latitude</th>\n",
       "      <th>Longitude</th>\n",
       "      <th>MedInc</th>\n",
       "      <th>Population</th>\n",
       "      <th>households</th>\n",
       "      <th>bedrms_per_room</th>\n",
       "      <th>INLAND</th>\n",
       "      <th>ISLAND</th>\n",
       "      <th>NEAR BAY</th>\n",
       "      <th>NEAR OCEAN</th>\n",
       "    </tr>\n",
       "  </thead>\n",
       "  <tbody>\n",
       "    <tr>\n",
       "      <td>0</td>\n",
       "      <td>1.100257</td>\n",
       "      <td>2.987147</td>\n",
       "      <td>4.863753</td>\n",
       "      <td>2.0</td>\n",
       "      <td>31.0</td>\n",
       "      <td>37.68</td>\n",
       "      <td>-122.10</td>\n",
       "      <td>3.1250</td>\n",
       "      <td>1162.0</td>\n",
       "      <td>389.0</td>\n",
       "      <td>0.226216</td>\n",
       "      <td>0</td>\n",
       "      <td>0</td>\n",
       "      <td>1</td>\n",
       "      <td>0</td>\n",
       "    </tr>\n",
       "    <tr>\n",
       "      <td>1</td>\n",
       "      <td>0.988864</td>\n",
       "      <td>1.955457</td>\n",
       "      <td>3.534521</td>\n",
       "      <td>4.0</td>\n",
       "      <td>52.0</td>\n",
       "      <td>37.86</td>\n",
       "      <td>-122.25</td>\n",
       "      <td>1.7652</td>\n",
       "      <td>878.0</td>\n",
       "      <td>449.0</td>\n",
       "      <td>0.279773</td>\n",
       "      <td>0</td>\n",
       "      <td>0</td>\n",
       "      <td>1</td>\n",
       "      <td>0</td>\n",
       "    </tr>\n",
       "    <tr>\n",
       "      <td>2</td>\n",
       "      <td>1.140385</td>\n",
       "      <td>1.634615</td>\n",
       "      <td>4.173077</td>\n",
       "      <td>5.0</td>\n",
       "      <td>22.0</td>\n",
       "      <td>34.07</td>\n",
       "      <td>-118.40</td>\n",
       "      <td>2.9107</td>\n",
       "      <td>850.0</td>\n",
       "      <td>520.0</td>\n",
       "      <td>0.273272</td>\n",
       "      <td>0</td>\n",
       "      <td>0</td>\n",
       "      <td>0</td>\n",
       "      <td>0</td>\n",
       "    </tr>\n",
       "    <tr>\n",
       "      <td>3</td>\n",
       "      <td>0.983568</td>\n",
       "      <td>2.772300</td>\n",
       "      <td>4.500000</td>\n",
       "      <td>2.0</td>\n",
       "      <td>34.0</td>\n",
       "      <td>32.75</td>\n",
       "      <td>-117.06</td>\n",
       "      <td>3.0208</td>\n",
       "      <td>1181.0</td>\n",
       "      <td>426.0</td>\n",
       "      <td>0.218571</td>\n",
       "      <td>0</td>\n",
       "      <td>0</td>\n",
       "      <td>0</td>\n",
       "      <td>1</td>\n",
       "    </tr>\n",
       "    <tr>\n",
       "      <td>4</td>\n",
       "      <td>1.166384</td>\n",
       "      <td>4.054329</td>\n",
       "      <td>5.665535</td>\n",
       "      <td>1.0</td>\n",
       "      <td>36.0</td>\n",
       "      <td>34.13</td>\n",
       "      <td>-117.27</td>\n",
       "      <td>2.9628</td>\n",
       "      <td>2388.0</td>\n",
       "      <td>589.0</td>\n",
       "      <td>0.205874</td>\n",
       "      <td>1</td>\n",
       "      <td>0</td>\n",
       "      <td>0</td>\n",
       "      <td>0</td>\n",
       "    </tr>\n",
       "  </tbody>\n",
       "</table>\n",
       "</div>"
      ],
      "text/plain": [
       "   AveBedrms  AveOccup  AveRooms  CatMedHouseValue  HouseAge  Latitude  \\\n",
       "0   1.100257  2.987147  4.863753               2.0      31.0     37.68   \n",
       "1   0.988864  1.955457  3.534521               4.0      52.0     37.86   \n",
       "2   1.140385  1.634615  4.173077               5.0      22.0     34.07   \n",
       "3   0.983568  2.772300  4.500000               2.0      34.0     32.75   \n",
       "4   1.166384  4.054329  5.665535               1.0      36.0     34.13   \n",
       "\n",
       "   Longitude  MedInc  Population  households  bedrms_per_room  INLAND  ISLAND  \\\n",
       "0    -122.10  3.1250      1162.0       389.0         0.226216       0       0   \n",
       "1    -122.25  1.7652       878.0       449.0         0.279773       0       0   \n",
       "2    -118.40  2.9107       850.0       520.0         0.273272       0       0   \n",
       "3    -117.06  3.0208      1181.0       426.0         0.218571       0       0   \n",
       "4    -117.27  2.9628      2388.0       589.0         0.205874       1       0   \n",
       "\n",
       "   NEAR BAY  NEAR OCEAN  \n",
       "0         1           0  \n",
       "1         1           0  \n",
       "2         0           0  \n",
       "3         0           1  \n",
       "4         0           0  "
      ]
     },
     "execution_count": 19,
     "metadata": {},
     "output_type": "execute_result"
    }
   ],
   "source": [
    "full_mg = pd.concat([full_mg, proximDf], axis=1)\n",
    "\n",
    "full_mg.drop('ocean_proximity', axis=1, inplace=True)\n",
    "full_mg.head()"
   ]
  },
  {
   "cell_type": "code",
   "execution_count": 20,
   "metadata": {},
   "outputs": [
    {
     "data": {
      "text/plain": [
       "CatMedHouseValue    1.000000\n",
       "MedInc              0.660428\n",
       "NEAR BAY            0.156826\n",
       "NEAR OCEAN          0.140316\n",
       "AveRooms            0.136280\n",
       "HouseAge            0.096855\n",
       "households          0.076718\n",
       "ISLAND              0.024019\n",
       "Population         -0.012032\n",
       "AveOccup           -0.022430\n",
       "Longitude          -0.045320\n",
       "AveBedrms          -0.048974\n",
       "Latitude           -0.146413\n",
       "bedrms_per_room    -0.243639\n",
       "INLAND             -0.484422\n",
       "Name: CatMedHouseValue, dtype: float64"
      ]
     },
     "execution_count": 20,
     "metadata": {},
     "output_type": "execute_result"
    }
   ],
   "source": [
    "# Check corr matrix again\n",
    "corr_mat = full_mg.corr()\n",
    "corr_mat['CatMedHouseValue'].sort_values(ascending=False)"
   ]
  },
  {
   "cell_type": "markdown",
   "metadata": {},
   "source": [
    "# 4. Select and train a model"
   ]
  },
  {
   "cell_type": "code",
   "execution_count": 21,
   "metadata": {
    "scrolled": true
   },
   "outputs": [
    {
     "name": "stdout",
     "output_type": "stream",
     "text": [
      "(18576, 14) (18576,) (2064, 14)\n"
     ]
    }
   ],
   "source": [
    "# Split source and test set\n",
    "sourceRow = 18576\n",
    "source_mg_X=full_mg.loc[:(sourceRow-1),:].drop(\"CatMedHouseValue\", \n",
    "                                               axis=1)\n",
    "source_mg_y=full_mg.loc[:(sourceRow-1),\"CatMedHouseValue\"].astype(int)\n",
    "test_mg_X=full_mg.loc[sourceRow:,:].drop(\"CatMedHouseValue\", \n",
    "                                               axis=1)\n",
    "print(source_mg_X.shape,source_mg_y.shape,test_mg_X.shape)"
   ]
  },
  {
   "cell_type": "markdown",
   "metadata": {},
   "source": [
    "## Model 1: Linear Discriminant Analysis"
   ]
  },
  {
   "cell_type": "code",
   "execution_count": 22,
   "metadata": {},
   "outputs": [
    {
     "data": {
      "text/plain": [
       "LinearDiscriminantAnalysis(n_components=None, priors=None, shrinkage=None,\n",
       "                           solver='svd', store_covariance=False, tol=0.0001)"
      ]
     },
     "execution_count": 22,
     "metadata": {},
     "output_type": "execute_result"
    }
   ],
   "source": [
    "# model fit\n",
    "from sklearn.discriminant_analysis import LinearDiscriminantAnalysis\n",
    "lda = LinearDiscriminantAnalysis()\n",
    "lda.fit(source_mg_X,source_mg_y)"
   ]
  },
  {
   "cell_type": "code",
   "execution_count": 23,
   "metadata": {},
   "outputs": [
    {
     "data": {
      "text/plain": [
       "0.6056739879414298"
      ]
     },
     "execution_count": 23,
     "metadata": {},
     "output_type": "execute_result"
    }
   ],
   "source": [
    "# find train accuracy\n",
    "lda_pred = lda.predict(source_mg_X)\n",
    "from sklearn.metrics import accuracy_score\n",
    "lda_trainacc = accuracy_score(lda_pred,source_mg_y)\n",
    "lda_trainacc"
   ]
  },
  {
   "cell_type": "code",
   "execution_count": 24,
   "metadata": {},
   "outputs": [
    {
     "data": {
      "text/plain": [
       "0.6041119548785236"
      ]
     },
     "execution_count": 24,
     "metadata": {},
     "output_type": "execute_result"
    }
   ],
   "source": [
    "# find test accuracy through cross-validation (cv)\n",
    "from sklearn.model_selection import cross_val_score\n",
    "lda_scores = cross_val_score(lda,source_mg_X,source_mg_y,\n",
    "                            scoring='accuracy', cv=10)\n",
    "lda_testacc = np.mean(lda_scores)\n",
    "lda_testacc"
   ]
  },
  {
   "cell_type": "markdown",
   "metadata": {},
   "source": [
    "## Model 2: Random Forest\n",
    "(Note: Ensemble methods usually outperform best individual methods,\n",
    "like random forest is usually better than the individual decision tree.)"
   ]
  },
  {
   "cell_type": "code",
   "execution_count": 25,
   "metadata": {},
   "outputs": [
    {
     "name": "stderr",
     "output_type": "stream",
     "text": [
      "/Users/qing/opt/anaconda3/lib/python3.7/site-packages/sklearn/ensemble/forest.py:245: FutureWarning: The default value of n_estimators will change from 10 in version 0.20 to 100 in 0.22.\n",
      "  \"10 in version 0.20 to 100 in 0.22.\", FutureWarning)\n"
     ]
    },
    {
     "data": {
      "text/plain": [
       "RandomForestClassifier(bootstrap=True, class_weight=None, criterion='gini',\n",
       "                       max_depth=None, max_features='auto', max_leaf_nodes=None,\n",
       "                       min_impurity_decrease=0.0, min_impurity_split=None,\n",
       "                       min_samples_leaf=1, min_samples_split=2,\n",
       "                       min_weight_fraction_leaf=0.0, n_estimators=10,\n",
       "                       n_jobs=None, oob_score=False, random_state=None,\n",
       "                       verbose=0, warm_start=False)"
      ]
     },
     "execution_count": 25,
     "metadata": {},
     "output_type": "execute_result"
    }
   ],
   "source": [
    "# model fit\n",
    "from sklearn.ensemble import RandomForestClassifier\n",
    "forest = RandomForestClassifier()\n",
    "forest.fit(source_mg_X,source_mg_y)"
   ]
  },
  {
   "cell_type": "code",
   "execution_count": 26,
   "metadata": {},
   "outputs": [
    {
     "data": {
      "text/plain": [
       "0.9897179155900087"
      ]
     },
     "execution_count": 26,
     "metadata": {},
     "output_type": "execute_result"
    }
   ],
   "source": [
    "# find train accuracy\n",
    "forest_pred = forest.predict(source_mg_X)\n",
    "from sklearn.metrics import accuracy_score\n",
    "forest_trainacc = accuracy_score(forest_pred,source_mg_y)\n",
    "forest_trainacc"
   ]
  },
  {
   "cell_type": "code",
   "execution_count": 27,
   "metadata": {},
   "outputs": [
    {
     "data": {
      "text/plain": [
       "0.6913155278864395"
      ]
     },
     "execution_count": 27,
     "metadata": {},
     "output_type": "execute_result"
    }
   ],
   "source": [
    "# find test accuracy through cv\n",
    "from sklearn.model_selection import cross_val_score\n",
    "forest_scores = cross_val_score(forest,source_mg_X,source_mg_y,\n",
    "                               scoring='accuracy',cv=10)\n",
    "forest_testacc = np.mean(forest_scores)\n",
    "forest_testacc"
   ]
  },
  {
   "cell_type": "markdown",
   "metadata": {},
   "source": [
    "## Model 3: XGBoosting"
   ]
  },
  {
   "cell_type": "code",
   "execution_count": 28,
   "metadata": {},
   "outputs": [
    {
     "data": {
      "text/plain": [
       "XGBClassifier(base_score=0.5, booster='gbtree', colsample_bylevel=1,\n",
       "              colsample_bynode=1, colsample_bytree=1, gamma=0,\n",
       "              learning_rate=0.1, max_delta_step=0, max_depth=3,\n",
       "              min_child_weight=1, missing=None, n_estimators=100, n_jobs=1,\n",
       "              nthread=None, objective='multi:softprob', random_state=0,\n",
       "              reg_alpha=0, reg_lambda=1, scale_pos_weight=1, seed=None,\n",
       "              silent=None, subsample=1, verbosity=1)"
      ]
     },
     "execution_count": 28,
     "metadata": {},
     "output_type": "execute_result"
    }
   ],
   "source": [
    "# model fit\n",
    "import xgboost as xgb\n",
    "XGb = xgb.XGBClassifier()\n",
    "XGb.fit(source_mg_X,source_mg_y)"
   ]
  },
  {
   "cell_type": "code",
   "execution_count": 29,
   "metadata": {},
   "outputs": [
    {
     "data": {
      "text/plain": [
       "0.7104328165374677"
      ]
     },
     "execution_count": 29,
     "metadata": {},
     "output_type": "execute_result"
    }
   ],
   "source": [
    "# find train accuracy\n",
    "XGb_pred = XGb.predict(source_mg_X)\n",
    "from sklearn.metrics import accuracy_score\n",
    "XGb_trainacc = accuracy_score(XGb_pred,source_mg_y)\n",
    "XGb_trainacc"
   ]
  },
  {
   "cell_type": "code",
   "execution_count": 30,
   "metadata": {},
   "outputs": [
    {
     "data": {
      "text/plain": [
       "0.6864202546564855"
      ]
     },
     "execution_count": 30,
     "metadata": {},
     "output_type": "execute_result"
    }
   ],
   "source": [
    "# find test accuracy through cv\n",
    "from sklearn.model_selection import cross_val_score\n",
    "XGb_scores = cross_val_score(XGb,source_mg_X,source_mg_y,\n",
    "                               scoring='accuracy',cv=10)\n",
    "XGb_testacc = np.mean(XGb_scores)\n",
    "XGb_testacc"
   ]
  },
  {
   "cell_type": "markdown",
   "metadata": {},
   "source": [
    "## Model 4: Support Vector Machine"
   ]
  },
  {
   "cell_type": "code",
   "execution_count": 32,
   "metadata": {},
   "outputs": [
    {
     "name": "stderr",
     "output_type": "stream",
     "text": [
      "/Users/qing/opt/anaconda3/lib/python3.7/site-packages/sklearn/svm/base.py:193: FutureWarning: The default value of gamma will change from 'auto' to 'scale' in version 0.22 to account better for unscaled features. Set gamma explicitly to 'auto' or 'scale' to avoid this warning.\n",
      "  \"avoid this warning.\", FutureWarning)\n"
     ]
    },
    {
     "data": {
      "text/plain": [
       "SVC(C=1.0, cache_size=200, class_weight=None, coef0=0.0,\n",
       "    decision_function_shape='ovr', degree=3, gamma='auto_deprecated',\n",
       "    kernel='rbf', max_iter=-1, probability=False, random_state=None,\n",
       "    shrinking=True, tol=0.001, verbose=False)"
      ]
     },
     "execution_count": 32,
     "metadata": {},
     "output_type": "execute_result"
    }
   ],
   "source": [
    "#model fit\n",
    "from sklearn.svm import SVC\n",
    "svm = SVC()\n",
    "svm.fit(source_mg_X,source_mg_y)"
   ]
  },
  {
   "cell_type": "code",
   "execution_count": 33,
   "metadata": {},
   "outputs": [
    {
     "data": {
      "text/plain": [
       "0.9953703703703703"
      ]
     },
     "execution_count": 33,
     "metadata": {},
     "output_type": "execute_result"
    }
   ],
   "source": [
    "#find train accuracy\n",
    "svm_pred = svm.predict(source_mg_X)\n",
    "from sklearn.metrics import accuracy_score\n",
    "svm_trainacc = accuracy_score(svm_pred,source_mg_y)\n",
    "svm_trainacc"
   ]
  },
  {
   "cell_type": "code",
   "execution_count": 34,
   "metadata": {},
   "outputs": [
    {
     "name": "stderr",
     "output_type": "stream",
     "text": [
      "/Users/qing/opt/anaconda3/lib/python3.7/site-packages/sklearn/svm/base.py:193: FutureWarning: The default value of gamma will change from 'auto' to 'scale' in version 0.22 to account better for unscaled features. Set gamma explicitly to 'auto' or 'scale' to avoid this warning.\n",
      "  \"avoid this warning.\", FutureWarning)\n",
      "/Users/qing/opt/anaconda3/lib/python3.7/site-packages/sklearn/svm/base.py:193: FutureWarning: The default value of gamma will change from 'auto' to 'scale' in version 0.22 to account better for unscaled features. Set gamma explicitly to 'auto' or 'scale' to avoid this warning.\n",
      "  \"avoid this warning.\", FutureWarning)\n",
      "/Users/qing/opt/anaconda3/lib/python3.7/site-packages/sklearn/svm/base.py:193: FutureWarning: The default value of gamma will change from 'auto' to 'scale' in version 0.22 to account better for unscaled features. Set gamma explicitly to 'auto' or 'scale' to avoid this warning.\n",
      "  \"avoid this warning.\", FutureWarning)\n",
      "/Users/qing/opt/anaconda3/lib/python3.7/site-packages/sklearn/svm/base.py:193: FutureWarning: The default value of gamma will change from 'auto' to 'scale' in version 0.22 to account better for unscaled features. Set gamma explicitly to 'auto' or 'scale' to avoid this warning.\n",
      "  \"avoid this warning.\", FutureWarning)\n",
      "/Users/qing/opt/anaconda3/lib/python3.7/site-packages/sklearn/svm/base.py:193: FutureWarning: The default value of gamma will change from 'auto' to 'scale' in version 0.22 to account better for unscaled features. Set gamma explicitly to 'auto' or 'scale' to avoid this warning.\n",
      "  \"avoid this warning.\", FutureWarning)\n",
      "/Users/qing/opt/anaconda3/lib/python3.7/site-packages/sklearn/svm/base.py:193: FutureWarning: The default value of gamma will change from 'auto' to 'scale' in version 0.22 to account better for unscaled features. Set gamma explicitly to 'auto' or 'scale' to avoid this warning.\n",
      "  \"avoid this warning.\", FutureWarning)\n",
      "/Users/qing/opt/anaconda3/lib/python3.7/site-packages/sklearn/svm/base.py:193: FutureWarning: The default value of gamma will change from 'auto' to 'scale' in version 0.22 to account better for unscaled features. Set gamma explicitly to 'auto' or 'scale' to avoid this warning.\n",
      "  \"avoid this warning.\", FutureWarning)\n",
      "/Users/qing/opt/anaconda3/lib/python3.7/site-packages/sklearn/svm/base.py:193: FutureWarning: The default value of gamma will change from 'auto' to 'scale' in version 0.22 to account better for unscaled features. Set gamma explicitly to 'auto' or 'scale' to avoid this warning.\n",
      "  \"avoid this warning.\", FutureWarning)\n",
      "/Users/qing/opt/anaconda3/lib/python3.7/site-packages/sklearn/svm/base.py:193: FutureWarning: The default value of gamma will change from 'auto' to 'scale' in version 0.22 to account better for unscaled features. Set gamma explicitly to 'auto' or 'scale' to avoid this warning.\n",
      "  \"avoid this warning.\", FutureWarning)\n",
      "/Users/qing/opt/anaconda3/lib/python3.7/site-packages/sklearn/svm/base.py:193: FutureWarning: The default value of gamma will change from 'auto' to 'scale' in version 0.22 to account better for unscaled features. Set gamma explicitly to 'auto' or 'scale' to avoid this warning.\n",
      "  \"avoid this warning.\", FutureWarning)\n"
     ]
    },
    {
     "data": {
      "text/plain": [
       "0.40035464067692106"
      ]
     },
     "execution_count": 34,
     "metadata": {},
     "output_type": "execute_result"
    }
   ],
   "source": [
    "#find test accuracy through cv\n",
    "from sklearn.model_selection import cross_val_score\n",
    "svm_scores = cross_val_score(svm,source_mg_X,source_mg_y,\n",
    "                               scoring='accuracy',cv=10)\n",
    "svm_testacc = np.mean(svm_scores)\n",
    "svm_testacc"
   ]
  },
  {
   "cell_type": "markdown",
   "metadata": {},
   "source": [
    "## Model 5: Deep Learning"
   ]
  },
  {
   "cell_type": "code",
   "execution_count": 35,
   "metadata": {},
   "outputs": [
    {
     "name": "stderr",
     "output_type": "stream",
     "text": [
      "Using TensorFlow backend.\n"
     ]
    }
   ],
   "source": [
    "# Import keras models and layers\n",
    "from keras.models import Sequential\n",
    "from keras.layers import Dense\n",
    "from keras.layers import Dropout"
   ]
  },
  {
   "cell_type": "code",
   "execution_count": 36,
   "metadata": {},
   "outputs": [],
   "source": [
    "# Create model\n",
    "model = Sequential()"
   ]
  },
  {
   "cell_type": "code",
   "execution_count": 37,
   "metadata": {},
   "outputs": [
    {
     "data": {
      "text/plain": [
       "14"
      ]
     },
     "execution_count": 37,
     "metadata": {},
     "output_type": "execute_result"
    }
   ],
   "source": [
    "# Get number of columns in training data\n",
    "n_cols = source_mg_X.shape[1]\n",
    "n_cols"
   ]
  },
  {
   "cell_type": "code",
   "execution_count": 38,
   "metadata": {},
   "outputs": [],
   "source": [
    "# Define model (one hidden layer with 100 nodes, 50% dropout)\n",
    "model.add(Dense(100, input_dim = n_cols, activation = \"relu\"))\n",
    "model.add(Dropout(0.5))\n",
    "model.add(Dense(5, activation = \"softmax\"))"
   ]
  },
  {
   "cell_type": "code",
   "execution_count": 39,
   "metadata": {},
   "outputs": [],
   "source": [
    "# Compile the model\n",
    "model.compile(loss = \"categorical_crossentropy\", \n",
    "              optimizer = \"adam\", \n",
    "              metrics = [\"accuracy\"])"
   ]
  },
  {
   "cell_type": "code",
   "execution_count": 41,
   "metadata": {},
   "outputs": [
    {
     "name": "stdout",
     "output_type": "stream",
     "text": [
      "Epoch 1/100\n",
      "18576/18576 [==============================] - 2s 112us/step - loss: 1.3721 - accuracy: 0.4115\n",
      "Epoch 2/100\n",
      "18576/18576 [==============================] - 2s 102us/step - loss: 1.3590 - accuracy: 0.4193\n",
      "Epoch 3/100\n",
      "18576/18576 [==============================] - 2s 120us/step - loss: 1.3549 - accuracy: 0.42290s - loss: 1.3530 \n",
      "Epoch 4/100\n",
      "18576/18576 [==============================] - 2s 127us/step - loss: 1.3569 - accuracy: 0.4215\n",
      "Epoch 5/100\n",
      "18576/18576 [==============================] - 3s 177us/step - loss: 1.3620 - accuracy: 0.4217\n",
      "Epoch 6/100\n",
      "18576/18576 [==============================] - 3s 184us/step - loss: 1.3661 - accuracy: 0.41930s - loss: 1.362\n",
      "Epoch 7/100\n",
      "18576/18576 [==============================] - 4s 222us/step - loss: 1.3624 - accuracy: 0.4220\n",
      "Epoch 8/100\n",
      "18576/18576 [==============================] - 4s 189us/step - loss: 1.3538 - accuracy: 0.4229\n",
      "Epoch 9/100\n",
      "18576/18576 [==============================] - 3s 153us/step - loss: 1.3533 - accuracy: 0.4268\n",
      "Epoch 10/100\n",
      "18576/18576 [==============================] - 2s 117us/step - loss: 1.3706 - accuracy: 0.4216\n",
      "Epoch 11/100\n",
      "18576/18576 [==============================] - 2s 115us/step - loss: 1.3568 - accuracy: 0.4248\n",
      "Epoch 12/100\n",
      "18576/18576 [==============================] - 3s 162us/step - loss: 1.3576 - accuracy: 0.4244\n",
      "Epoch 13/100\n",
      "18576/18576 [==============================] - 3s 151us/step - loss: 1.3528 - accuracy: 0.4260\n",
      "Epoch 14/100\n",
      "18576/18576 [==============================] - 3s 166us/step - loss: 1.3565 - accuracy: 0.4241\n",
      "Epoch 15/100\n",
      "18576/18576 [==============================] - 2s 125us/step - loss: 1.3618 - accuracy: 0.4210\n",
      "Epoch 16/100\n",
      "18576/18576 [==============================] - 2s 115us/step - loss: 1.3527 - accuracy: 0.4266\n",
      "Epoch 17/100\n",
      "18576/18576 [==============================] - 3s 142us/step - loss: 1.3567 - accuracy: 0.4274\n",
      "Epoch 18/100\n",
      "18576/18576 [==============================] - 3s 173us/step - loss: 1.3542 - accuracy: 0.4271\n",
      "Epoch 19/100\n",
      "18576/18576 [==============================] - 3s 164us/step - loss: 1.3563 - accuracy: 0.4253\n",
      "Epoch 20/100\n",
      "18576/18576 [==============================] - 2s 111us/step - loss: 1.3577 - accuracy: 0.4230\n",
      "Epoch 21/100\n",
      "18576/18576 [==============================] - 2s 107us/step - loss: 1.3535 - accuracy: 0.4250\n",
      "Epoch 22/100\n",
      "18576/18576 [==============================] - 3s 145us/step - loss: 1.3574 - accuracy: 0.4240\n",
      "Epoch 23/100\n",
      "18576/18576 [==============================] - 2s 134us/step - loss: 1.3505 - accuracy: 0.4282\n",
      "Epoch 24/100\n",
      "18576/18576 [==============================] - 3s 137us/step - loss: 1.3553 - accuracy: 0.4287\n",
      "Epoch 25/100\n",
      "18576/18576 [==============================] - 3s 141us/step - loss: 1.3535 - accuracy: 0.4240\n",
      "Epoch 26/100\n",
      "18576/18576 [==============================] - 3s 137us/step - loss: 1.3453 - accuracy: 0.4266\n",
      "Epoch 27/100\n",
      "18576/18576 [==============================] - ETA: 0s - loss: 1.3513 - accuracy: 0.42 - 3s 187us/step - loss: 1.3512 - accuracy: 0.4238\n",
      "Epoch 28/100\n",
      "18576/18576 [==============================] - 3s 159us/step - loss: 1.3518 - accuracy: 0.4267\n",
      "Epoch 29/100\n",
      "18576/18576 [==============================] - 2s 114us/step - loss: 1.3492 - accuracy: 0.4271\n",
      "Epoch 30/100\n",
      "18576/18576 [==============================] - 3s 140us/step - loss: 1.3551 - accuracy: 0.4238\n",
      "Epoch 31/100\n",
      "18576/18576 [==============================] - 2s 131us/step - loss: 1.3488 - accuracy: 0.4267\n",
      "Epoch 32/100\n",
      "  656/18576 [>.............................] - ETA: 8s - loss: 1.3116 - accuracy: 0.4238 "
     ]
    },
    {
     "name": "stderr",
     "output_type": "stream",
     "text": [
      "/Users/qing/opt/anaconda3/lib/python3.7/site-packages/keras/callbacks/callbacks.py:95: RuntimeWarning: Method (on_train_batch_end) is slow compared to the batch update (0.110136). Check your callbacks.\n",
      "  % (hook_name, delta_t_median), RuntimeWarning)\n"
     ]
    },
    {
     "name": "stdout",
     "output_type": "stream",
     "text": [
      "18576/18576 [==============================] - 3s 171us/step - loss: 1.3524 - accuracy: 0.42621s - loss: 1\n",
      "Epoch 33/100\n",
      "18576/18576 [==============================] - 2s 99us/step - loss: 1.3275 - accuracy: 0.4266\n",
      "Epoch 34/100\n",
      "18576/18576 [==============================] - 2s 115us/step - loss: 1.3189 - accuracy: 0.4226\n",
      "Epoch 35/100\n",
      "18576/18576 [==============================] - 2s 101us/step - loss: 1.3020 - accuracy: 0.4215\n",
      "Epoch 36/100\n",
      "18576/18576 [==============================] - 2s 90us/step - loss: 1.2978 - accuracy: 0.4218 0s - loss: 1.306\n",
      "Epoch 37/100\n",
      "18576/18576 [==============================] - 2s 92us/step - loss: 1.3025 - accuracy: 0.4199\n",
      "Epoch 38/100\n",
      "18576/18576 [==============================] - 2s 112us/step - loss: 1.2943 - accuracy: 0.4224\n",
      "Epoch 39/100\n",
      "18576/18576 [==============================] - 2s 90us/step - loss: 1.2901 - accuracy: 0.4209\n",
      "Epoch 40/100\n",
      "18576/18576 [==============================] - 2s 89us/step - loss: 1.2934 - accuracy: 0.4220\n",
      "Epoch 41/100\n",
      "18576/18576 [==============================] - 2s 87us/step - loss: 1.2922 - accuracy: 0.4207\n",
      "Epoch 42/100\n",
      "18576/18576 [==============================] - 2s 97us/step - loss: 1.2943 - accuracy: 0.4219\n",
      "Epoch 43/100\n",
      "18576/18576 [==============================] - 2s 87us/step - loss: 1.2952 - accuracy: 0.4207\n",
      "Epoch 44/100\n",
      "18576/18576 [==============================] - 2s 85us/step - loss: 1.2951 - accuracy: 0.4174\n",
      "Epoch 45/100\n",
      "18576/18576 [==============================] - 2s 89us/step - loss: 1.2883 - accuracy: 0.4180\n",
      "Epoch 46/100\n",
      "18576/18576 [==============================] - 2s 98us/step - loss: 1.2869 - accuracy: 0.4239\n",
      "Epoch 47/100\n",
      "18576/18576 [==============================] - 2s 93us/step - loss: 1.2947 - accuracy: 0.4193\n",
      "Epoch 48/100\n",
      "18576/18576 [==============================] - 2s 96us/step - loss: 1.2831 - accuracy: 0.4225\n",
      "Epoch 49/100\n",
      "18576/18576 [==============================] - 2s 93us/step - loss: 1.2840 - accuracy: 0.4207\n",
      "Epoch 50/100\n",
      "18576/18576 [==============================] - 2s 99us/step - loss: 1.2916 - accuracy: 0.4208\n",
      "Epoch 51/100\n",
      "18576/18576 [==============================] - 2s 91us/step - loss: 1.2966 - accuracy: 0.4196\n",
      "Epoch 52/100\n",
      "18576/18576 [==============================] - 2s 100us/step - loss: 1.2859 - accuracy: 0.4187\n",
      "Epoch 53/100\n",
      "18576/18576 [==============================] - 2s 92us/step - loss: 1.2858 - accuracy: 0.4200\n",
      "Epoch 54/100\n",
      "18576/18576 [==============================] - 2s 86us/step - loss: 1.2911 - accuracy: 0.4201\n",
      "Epoch 55/100\n",
      "18576/18576 [==============================] - 2s 92us/step - loss: 1.2908 - accuracy: 0.4216\n",
      "Epoch 56/100\n",
      "18576/18576 [==============================] - 2s 108us/step - loss: 1.2911 - accuracy: 0.4196\n",
      "Epoch 57/100\n",
      "18576/18576 [==============================] - 2s 91us/step - loss: 1.2857 - accuracy: 0.4243\n",
      "Epoch 58/100\n",
      "18576/18576 [==============================] - 2s 93us/step - loss: 1.2831 - accuracy: 0.4154\n",
      "Epoch 59/100\n",
      "18576/18576 [==============================] - 2s 91us/step - loss: 1.2848 - accuracy: 0.4222\n",
      "Epoch 60/100\n",
      "18576/18576 [==============================] - 2s 87us/step - loss: 1.2817 - accuracy: 0.4224\n",
      "Epoch 61/100\n",
      "18576/18576 [==============================] - 2s 86us/step - loss: 1.2898 - accuracy: 0.4204\n",
      "Epoch 62/100\n",
      "18576/18576 [==============================] - 2s 92us/step - loss: 1.2860 - accuracy: 0.4213\n",
      "Epoch 63/100\n",
      "18576/18576 [==============================] - 2s 92us/step - loss: 1.2880 - accuracy: 0.4210\n",
      "Epoch 64/100\n",
      "18576/18576 [==============================] - 2s 87us/step - loss: 1.2878 - accuracy: 0.4187\n",
      "Epoch 65/100\n",
      "18576/18576 [==============================] - 3s 143us/step - loss: 1.2852 - accuracy: 0.4239\n",
      "Epoch 66/100\n",
      "18576/18576 [==============================] - 2s 95us/step - loss: 1.2808 - accuracy: 0.4181\n",
      "Epoch 67/100\n",
      "18576/18576 [==============================] - 2s 92us/step - loss: 1.2836 - accuracy: 0.4224\n",
      "Epoch 68/100\n",
      "18576/18576 [==============================] - 2s 94us/step - loss: 1.2837 - accuracy: 0.4222 0s - loss: 1.2840 - accuracy: 0.42\n",
      "Epoch 69/100\n",
      "18576/18576 [==============================] - 2s 91us/step - loss: 1.2794 - accuracy: 0.4252\n",
      "Epoch 70/100\n",
      "18576/18576 [==============================] - 2s 88us/step - loss: 1.2863 - accuracy: 0.4182\n",
      "Epoch 71/100\n",
      "18576/18576 [==============================] - 2s 90us/step - loss: 1.2845 - accuracy: 0.4177\n",
      "Epoch 72/100\n",
      "18576/18576 [==============================] - 2s 86us/step - loss: 1.2872 - accuracy: 0.4197\n",
      "Epoch 73/100\n",
      "18576/18576 [==============================] - 2s 89us/step - loss: 1.2770 - accuracy: 0.4227\n",
      "Epoch 74/100\n",
      "18576/18576 [==============================] - 2s 106us/step - loss: 1.2831 - accuracy: 0.4191\n",
      "Epoch 75/100\n",
      "18576/18576 [==============================] - 2s 100us/step - loss: 1.2832 - accuracy: 0.42290s - loss: 1.2841 - accura\n",
      "Epoch 76/100\n",
      "18576/18576 [==============================] - 2s 101us/step - loss: 1.2867 - accuracy: 0.4180\n",
      "Epoch 77/100\n",
      "18576/18576 [==============================] - 2s 91us/step - loss: 1.2836 - accuracy: 0.4226\n",
      "Epoch 78/100\n",
      "18576/18576 [==============================] - 2s 92us/step - loss: 1.2872 - accuracy: 0.4177\n",
      "Epoch 79/100\n",
      "18576/18576 [==============================] - 2s 98us/step - loss: 1.2830 - accuracy: 0.4205 0s - loss: 1.2859 - accu\n",
      "Epoch 80/100\n",
      "18576/18576 [==============================] - 2s 89us/step - loss: 1.2875 - accuracy: 0.4202\n",
      "Epoch 81/100\n",
      "18576/18576 [==============================] - 2s 89us/step - loss: 1.2829 - accuracy: 0.4238\n",
      "Epoch 82/100\n",
      "18576/18576 [==============================] - 2s 89us/step - loss: 1.2797 - accuracy: 0.4230\n",
      "Epoch 83/100\n",
      "18576/18576 [==============================] - 2s 89us/step - loss: 1.2880 - accuracy: 0.4241\n",
      "Epoch 84/100\n",
      "18576/18576 [==============================] - 2s 92us/step - loss: 1.2825 - accuracy: 0.4209\n",
      "Epoch 85/100\n",
      "18576/18576 [==============================] - 2s 106us/step - loss: 1.2818 - accuracy: 0.42030s - loss: 1.2839 - ac\n",
      "Epoch 86/100\n",
      "18576/18576 [==============================] - 2s 89us/step - loss: 1.2836 - accuracy: 0.4210\n",
      "Epoch 87/100\n",
      "18576/18576 [==============================] - 2s 90us/step - loss: 1.2880 - accuracy: 0.4208\n",
      "Epoch 88/100\n",
      "18576/18576 [==============================] - 2s 97us/step - loss: 1.2841 - accuracy: 0.4185\n",
      "Epoch 89/100\n",
      "18576/18576 [==============================] - 2s 98us/step - loss: 1.2868 - accuracy: 0.4228\n",
      "Epoch 90/100\n",
      "18576/18576 [==============================] - 2s 101us/step - loss: 1.2860 - accuracy: 0.4228\n",
      "Epoch 91/100\n",
      "18576/18576 [==============================] - 2s 97us/step - loss: 1.2851 - accuracy: 0.4217\n",
      "Epoch 92/100\n",
      "18576/18576 [==============================] - 2s 115us/step - loss: 1.2866 - accuracy: 0.4189\n",
      "Epoch 93/100\n",
      "18576/18576 [==============================] - 2s 101us/step - loss: 1.2829 - accuracy: 0.4217\n",
      "Epoch 94/100\n",
      "18576/18576 [==============================] - 2s 101us/step - loss: 1.2766 - accuracy: 0.4275\n",
      "Epoch 95/100\n",
      "18576/18576 [==============================] - 2s 97us/step - loss: 1.2809 - accuracy: 0.4211\n",
      "Epoch 96/100\n",
      "18576/18576 [==============================] - 2s 110us/step - loss: 1.2852 - accuracy: 0.4227\n",
      "Epoch 97/100\n",
      "18576/18576 [==============================] - 2s 93us/step - loss: 1.2835 - accuracy: 0.4210\n",
      "Epoch 98/100\n",
      "18576/18576 [==============================] - 2s 94us/step - loss: 1.2827 - accuracy: 0.4242\n",
      "Epoch 99/100\n",
      "18576/18576 [==============================] - 2s 113us/step - loss: 1.2891 - accuracy: 0.4188\n",
      "Epoch 100/100\n",
      "18576/18576 [==============================] - 2s 123us/step - loss: 1.2861 - accuracy: 0.4220\n"
     ]
    },
    {
     "data": {
      "text/plain": [
       "<keras.callbacks.callbacks.History at 0x1a29daa910>"
      ]
     },
     "execution_count": 41,
     "metadata": {},
     "output_type": "execute_result"
    }
   ],
   "source": [
    "# Fit the model on the dataset\n",
    "from keras.utils import to_categorical\n",
    "source_y_bi = to_categorical(source_mg_y)[:,1:]\n",
    "\n",
    "model.fit(source_mg_X, source_y_bi, epochs = 100, batch_size = 16)"
   ]
  },
  {
   "cell_type": "code",
   "execution_count": 42,
   "metadata": {},
   "outputs": [
    {
     "data": {
      "text/plain": [
       "(18576, 5)"
      ]
     },
     "execution_count": 42,
     "metadata": {},
     "output_type": "execute_result"
    }
   ],
   "source": [
    "source_y_bi.shape"
   ]
  },
  {
   "cell_type": "code",
   "execution_count": 43,
   "metadata": {},
   "outputs": [
    {
     "data": {
      "text/html": [
       "<div>\n",
       "<style scoped>\n",
       "    .dataframe tbody tr th:only-of-type {\n",
       "        vertical-align: middle;\n",
       "    }\n",
       "\n",
       "    .dataframe tbody tr th {\n",
       "        vertical-align: top;\n",
       "    }\n",
       "\n",
       "    .dataframe thead th {\n",
       "        text-align: right;\n",
       "    }\n",
       "</style>\n",
       "<table border=\"1\" class=\"dataframe\">\n",
       "  <thead>\n",
       "    <tr style=\"text-align: right;\">\n",
       "      <th></th>\n",
       "      <th>0</th>\n",
       "      <th>1</th>\n",
       "      <th>2</th>\n",
       "      <th>3</th>\n",
       "      <th>4</th>\n",
       "    </tr>\n",
       "  </thead>\n",
       "  <tbody>\n",
       "    <tr>\n",
       "      <td>0</td>\n",
       "      <td>0.0</td>\n",
       "      <td>1.0</td>\n",
       "      <td>0.0</td>\n",
       "      <td>0.0</td>\n",
       "      <td>0.0</td>\n",
       "    </tr>\n",
       "    <tr>\n",
       "      <td>1</td>\n",
       "      <td>0.0</td>\n",
       "      <td>0.0</td>\n",
       "      <td>0.0</td>\n",
       "      <td>1.0</td>\n",
       "      <td>0.0</td>\n",
       "    </tr>\n",
       "    <tr>\n",
       "      <td>2</td>\n",
       "      <td>0.0</td>\n",
       "      <td>0.0</td>\n",
       "      <td>0.0</td>\n",
       "      <td>0.0</td>\n",
       "      <td>1.0</td>\n",
       "    </tr>\n",
       "    <tr>\n",
       "      <td>3</td>\n",
       "      <td>0.0</td>\n",
       "      <td>1.0</td>\n",
       "      <td>0.0</td>\n",
       "      <td>0.0</td>\n",
       "      <td>0.0</td>\n",
       "    </tr>\n",
       "    <tr>\n",
       "      <td>4</td>\n",
       "      <td>1.0</td>\n",
       "      <td>0.0</td>\n",
       "      <td>0.0</td>\n",
       "      <td>0.0</td>\n",
       "      <td>0.0</td>\n",
       "    </tr>\n",
       "  </tbody>\n",
       "</table>\n",
       "</div>"
      ],
      "text/plain": [
       "     0    1    2    3    4\n",
       "0  0.0  1.0  0.0  0.0  0.0\n",
       "1  0.0  0.0  0.0  1.0  0.0\n",
       "2  0.0  0.0  0.0  0.0  1.0\n",
       "3  0.0  1.0  0.0  0.0  0.0\n",
       "4  1.0  0.0  0.0  0.0  0.0"
      ]
     },
     "execution_count": 43,
     "metadata": {},
     "output_type": "execute_result"
    }
   ],
   "source": [
    "pd.DataFrame(source_y_bi).head()"
   ]
  },
  {
   "cell_type": "code",
   "execution_count": 44,
   "metadata": {},
   "outputs": [
    {
     "name": "stdout",
     "output_type": "stream",
     "text": [
      "18576/18576 [==============================] - 1s 29us/step\n"
     ]
    },
    {
     "data": {
      "text/plain": [
       "[1.1943817276260547, 0.4038544297218323]"
      ]
     },
     "execution_count": 44,
     "metadata": {},
     "output_type": "execute_result"
    }
   ],
   "source": [
    "# Evaluate the model\n",
    "model.evaluate(source_mg_X,source_y_bi)"
   ]
  },
  {
   "cell_type": "markdown",
   "metadata": {},
   "source": [
    "# 5. Hyperparameter Tuning"
   ]
  },
  {
   "cell_type": "markdown",
   "metadata": {},
   "source": [
    "Based on the accuracy results above, we would choose Random Forest and XGBoost to do hyperparameter tuning."
   ]
  },
  {
   "cell_type": "markdown",
   "metadata": {},
   "source": [
    "## 5.1. Random Forest"
   ]
  },
  {
   "cell_type": "markdown",
   "metadata": {},
   "source": [
    "### 5.1.1. Grid search"
   ]
  },
  {
   "cell_type": "code",
   "execution_count": 45,
   "metadata": {},
   "outputs": [
    {
     "data": {
      "text/plain": [
       "GridSearchCV(cv=5, error_score='raise-deprecating',\n",
       "             estimator=RandomForestClassifier(bootstrap=True, class_weight=None,\n",
       "                                              criterion='gini', max_depth=None,\n",
       "                                              max_features='auto',\n",
       "                                              max_leaf_nodes=None,\n",
       "                                              min_impurity_decrease=0.0,\n",
       "                                              min_impurity_split=None,\n",
       "                                              min_samples_leaf=1,\n",
       "                                              min_samples_split=2,\n",
       "                                              min_weight_fraction_leaf=0.0,\n",
       "                                              n_estimators=10, n_jobs=None,\n",
       "                                              oob_score=False,\n",
       "                                              random_state=None, verbose=0,\n",
       "                                              warm_start=False),\n",
       "             iid='warn', n_jobs=None,\n",
       "             param_grid=[{'max_features': [2, 4, 6, 'auto'],\n",
       "                          'n_estimators': [30, 50, 100]}],\n",
       "             pre_dispatch='2*n_jobs', refit=True, return_train_score=False,\n",
       "             scoring='accuracy', verbose=0)"
      ]
     },
     "execution_count": 45,
     "metadata": {},
     "output_type": "execute_result"
    }
   ],
   "source": [
    "from sklearn.model_selection import GridSearchCV\n",
    "param_grid = [\n",
    "{'n_estimators': [30, 50, 100], 'max_features': [2, 4, 6, \"auto\"]}\n",
    "]\n",
    "forest_grid_search=GridSearchCV(forest, param_grid, cv=5, \n",
    "                                scoring='accuracy')\n",
    "forest_grid_search.fit(source_mg_X,source_mg_y)"
   ]
  },
  {
   "cell_type": "code",
   "execution_count": 46,
   "metadata": {
    "scrolled": true
   },
   "outputs": [
    {
     "data": {
      "text/plain": [
       "{'max_features': 4, 'n_estimators': 100}"
      ]
     },
     "execution_count": 46,
     "metadata": {},
     "output_type": "execute_result"
    }
   ],
   "source": [
    "forest_grid_search.best_params_"
   ]
  },
  {
   "cell_type": "code",
   "execution_count": 47,
   "metadata": {},
   "outputs": [
    {
     "name": "stdout",
     "output_type": "stream",
     "text": [
      "0.7061800172265289 {'max_features': 2, 'n_estimators': 30}\n",
      "0.7143626184323859 {'max_features': 2, 'n_estimators': 50}\n",
      "0.7199612403100775 {'max_features': 2, 'n_estimators': 100}\n",
      "0.7172157622739018 {'max_features': 4, 'n_estimators': 30}\n",
      "0.720230404823428 {'max_features': 4, 'n_estimators': 50}\n",
      "0.7257751937984496 {'max_features': 4, 'n_estimators': 100}\n",
      "0.7159237726098191 {'max_features': 6, 'n_estimators': 30}\n",
      "0.7190999138673557 {'max_features': 6, 'n_estimators': 50}\n",
      "0.7237833763996555 {'max_features': 6, 'n_estimators': 100}\n",
      "0.7138781223083549 {'max_features': 'auto', 'n_estimators': 30}\n",
      "0.717323428079242 {'max_features': 'auto', 'n_estimators': 50}\n",
      "0.7220068906115418 {'max_features': 'auto', 'n_estimators': 100}\n"
     ]
    }
   ],
   "source": [
    "cvres = forest_grid_search.cv_results_\n",
    "for mean_score, params in zip(cvres[\"mean_test_score\"], cvres[\"params\"]): \n",
    "    print(mean_score, params)"
   ]
  },
  {
   "cell_type": "markdown",
   "metadata": {},
   "source": [
    "### 5.1.3. Submission 1"
   ]
  },
  {
   "cell_type": "code",
   "execution_count": 48,
   "metadata": {},
   "outputs": [
    {
     "data": {
      "text/plain": [
       "RandomForestClassifier(bootstrap=True, class_weight=None, criterion='gini',\n",
       "                       max_depth=None, max_features=4, max_leaf_nodes=None,\n",
       "                       min_impurity_decrease=0.0, min_impurity_split=None,\n",
       "                       min_samples_leaf=1, min_samples_split=2,\n",
       "                       min_weight_fraction_leaf=0.0, n_estimators=100,\n",
       "                       n_jobs=None, oob_score=False, random_state=None,\n",
       "                       verbose=0, warm_start=False)"
      ]
     },
     "execution_count": 48,
     "metadata": {},
     "output_type": "execute_result"
    }
   ],
   "source": [
    "forest_final = RandomForestClassifier(max_features = 4, n_estimators = 100)\n",
    "forest_final.fit(source_mg_X,source_mg_y)"
   ]
  },
  {
   "cell_type": "code",
   "execution_count": 49,
   "metadata": {},
   "outputs": [],
   "source": [
    "pred_y = forest_final.predict(test_mg_X)\n",
    "submission[\"Prediction\"] = pred_y.astype(int)\n",
    "submission.to_csv(\"CatMedHouseValue_pred.csv\", index=False)"
   ]
  },
  {
   "cell_type": "code",
   "execution_count": 50,
   "metadata": {},
   "outputs": [
    {
     "data": {
      "text/html": [
       "<div>\n",
       "<style scoped>\n",
       "    .dataframe tbody tr th:only-of-type {\n",
       "        vertical-align: middle;\n",
       "    }\n",
       "\n",
       "    .dataframe tbody tr th {\n",
       "        vertical-align: top;\n",
       "    }\n",
       "\n",
       "    .dataframe thead th {\n",
       "        text-align: right;\n",
       "    }\n",
       "</style>\n",
       "<table border=\"1\" class=\"dataframe\">\n",
       "  <thead>\n",
       "    <tr style=\"text-align: right;\">\n",
       "      <th></th>\n",
       "      <th>Id</th>\n",
       "      <th>Prediction</th>\n",
       "    </tr>\n",
       "  </thead>\n",
       "  <tbody>\n",
       "    <tr>\n",
       "      <td>0</td>\n",
       "      <td>2834</td>\n",
       "      <td>1</td>\n",
       "    </tr>\n",
       "    <tr>\n",
       "      <td>1</td>\n",
       "      <td>19200</td>\n",
       "      <td>2</td>\n",
       "    </tr>\n",
       "    <tr>\n",
       "      <td>2</td>\n",
       "      <td>5325</td>\n",
       "      <td>5</td>\n",
       "    </tr>\n",
       "    <tr>\n",
       "      <td>3</td>\n",
       "      <td>7650</td>\n",
       "      <td>3</td>\n",
       "    </tr>\n",
       "    <tr>\n",
       "      <td>4</td>\n",
       "      <td>10452</td>\n",
       "      <td>3</td>\n",
       "    </tr>\n",
       "  </tbody>\n",
       "</table>\n",
       "</div>"
      ],
      "text/plain": [
       "      Id  Prediction\n",
       "0   2834           1\n",
       "1  19200           2\n",
       "2   5325           5\n",
       "3   7650           3\n",
       "4  10452           3"
      ]
     },
     "execution_count": 50,
     "metadata": {},
     "output_type": "execute_result"
    }
   ],
   "source": [
    "submission.head()"
   ]
  },
  {
   "cell_type": "markdown",
   "metadata": {},
   "source": [
    "## 5.2. XGBoost"
   ]
  },
  {
   "cell_type": "markdown",
   "metadata": {},
   "source": [
    "### 5.2.1. Grid search"
   ]
  },
  {
   "cell_type": "code",
   "execution_count": 51,
   "metadata": {},
   "outputs": [
    {
     "data": {
      "text/plain": [
       "GridSearchCV(cv=10, error_score='raise-deprecating',\n",
       "             estimator=XGBClassifier(base_score=0.5, booster='gbtree',\n",
       "                                     colsample_bylevel=1, colsample_bynode=1,\n",
       "                                     colsample_bytree=1, gamma=0,\n",
       "                                     learning_rate=0.1, max_delta_step=0,\n",
       "                                     max_depth=3, min_child_weight=1,\n",
       "                                     missing=None, n_estimators=100, n_jobs=1,\n",
       "                                     nthread=None, objective='multi:softprob',\n",
       "                                     random_state=0, reg_alpha=0, reg_lambda=1,\n",
       "                                     scale_pos_weight=1, seed=None, silent=None,\n",
       "                                     subsample=1, verbosity=1),\n",
       "             iid='warn', n_jobs=None,\n",
       "             param_grid={'max_depth': [2, 3, 4, 5],\n",
       "                         'n_estimators': [50, 100, 150, 200]},\n",
       "             pre_dispatch='2*n_jobs', refit=True, return_train_score=False,\n",
       "             scoring=None, verbose=0)"
      ]
     },
     "execution_count": 51,
     "metadata": {},
     "output_type": "execute_result"
    }
   ],
   "source": [
    "from sklearn.model_selection import GridSearchCV\n",
    "import xgboost as xgb\n",
    "XGb = xgb.XGBClassifier(objective = \"multi:softprob\")\n",
    "parameters = {'max_depth': [2,3,4,5], 'n_estimators': [50,100,150,200]}\n",
    "XGB_grid_search = GridSearchCV(XGb, parameters, cv = 10)\n",
    "XGB_grid_search.fit(source_mg_X,source_mg_y)"
   ]
  },
  {
   "cell_type": "code",
   "execution_count": 52,
   "metadata": {},
   "outputs": [
    {
     "name": "stdout",
     "output_type": "stream",
     "text": [
      "{'max_depth': 5, 'n_estimators': 200}\n",
      "0.7394487510766581\n"
     ]
    }
   ],
   "source": [
    "print(XGB_grid_search.best_params_)\n",
    "print(XGB_grid_search.best_score_)"
   ]
  },
  {
   "cell_type": "markdown",
   "metadata": {},
   "source": [
    "### 5.3.2. Submission 2"
   ]
  },
  {
   "cell_type": "code",
   "execution_count": 53,
   "metadata": {},
   "outputs": [],
   "source": [
    "XGb_final = xgb.XGBClassifier(\n",
    "    objective = \"multi:softprob\",\n",
    "    max_depth = 5,\n",
    "    n_estimators = 200,\n",
    "    n_jobs=3\n",
    ")"
   ]
  },
  {
   "cell_type": "code",
   "execution_count": 54,
   "metadata": {},
   "outputs": [
    {
     "data": {
      "text/plain": [
       "XGBClassifier(base_score=0.5, booster='gbtree', colsample_bylevel=1,\n",
       "              colsample_bynode=1, colsample_bytree=1, gamma=0,\n",
       "              learning_rate=0.1, max_delta_step=0, max_depth=5,\n",
       "              min_child_weight=1, missing=None, n_estimators=200, n_jobs=3,\n",
       "              nthread=None, objective='multi:softprob', random_state=0,\n",
       "              reg_alpha=0, reg_lambda=1, scale_pos_weight=1, seed=None,\n",
       "              silent=None, subsample=1, verbosity=1)"
      ]
     },
     "execution_count": 54,
     "metadata": {},
     "output_type": "execute_result"
    }
   ],
   "source": [
    "XGb_final.fit(source_mg_X,source_mg_y)"
   ]
  },
  {
   "cell_type": "code",
   "execution_count": 55,
   "metadata": {},
   "outputs": [],
   "source": [
    "pred_y = XGb_final.predict(test_mg_X)\n",
    "#submission[\"Prediction\"] = pred_y.astype(int)\n",
    "#submission.to_csv(\"CatMedHouseValue_pred.csv\", index=False)"
   ]
  },
  {
   "cell_type": "code",
   "execution_count": 56,
   "metadata": {},
   "outputs": [
    {
     "data": {
      "text/html": [
       "<div>\n",
       "<style scoped>\n",
       "    .dataframe tbody tr th:only-of-type {\n",
       "        vertical-align: middle;\n",
       "    }\n",
       "\n",
       "    .dataframe tbody tr th {\n",
       "        vertical-align: top;\n",
       "    }\n",
       "\n",
       "    .dataframe thead th {\n",
       "        text-align: right;\n",
       "    }\n",
       "</style>\n",
       "<table border=\"1\" class=\"dataframe\">\n",
       "  <thead>\n",
       "    <tr style=\"text-align: right;\">\n",
       "      <th></th>\n",
       "      <th>Id</th>\n",
       "      <th>Prediction</th>\n",
       "    </tr>\n",
       "  </thead>\n",
       "  <tbody>\n",
       "    <tr>\n",
       "      <td>0</td>\n",
       "      <td>2834</td>\n",
       "      <td>1</td>\n",
       "    </tr>\n",
       "    <tr>\n",
       "      <td>1</td>\n",
       "      <td>19200</td>\n",
       "      <td>2</td>\n",
       "    </tr>\n",
       "    <tr>\n",
       "      <td>2</td>\n",
       "      <td>5325</td>\n",
       "      <td>5</td>\n",
       "    </tr>\n",
       "    <tr>\n",
       "      <td>3</td>\n",
       "      <td>7650</td>\n",
       "      <td>3</td>\n",
       "    </tr>\n",
       "    <tr>\n",
       "      <td>4</td>\n",
       "      <td>10452</td>\n",
       "      <td>3</td>\n",
       "    </tr>\n",
       "  </tbody>\n",
       "</table>\n",
       "</div>"
      ],
      "text/plain": [
       "      Id  Prediction\n",
       "0   2834           1\n",
       "1  19200           2\n",
       "2   5325           5\n",
       "3   7650           3\n",
       "4  10452           3"
      ]
     },
     "execution_count": 56,
     "metadata": {},
     "output_type": "execute_result"
    }
   ],
   "source": [
    "submission.head()"
   ]
  },
  {
   "cell_type": "code",
   "execution_count": null,
   "metadata": {},
   "outputs": [],
   "source": []
  }
 ],
 "metadata": {
  "kernelspec": {
   "display_name": "Python 3",
   "language": "python",
   "name": "python3"
  },
  "language_info": {
   "codemirror_mode": {
    "name": "ipython",
    "version": 3
   },
   "file_extension": ".py",
   "mimetype": "text/x-python",
   "name": "python",
   "nbconvert_exporter": "python",
   "pygments_lexer": "ipython3",
   "version": "3.7.4"
  }
 },
 "nbformat": 4,
 "nbformat_minor": 2
}
